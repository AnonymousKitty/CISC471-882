{
 "cells": [
  {
   "cell_type": "markdown",
   "metadata": {},
   "source": [
    "Import required modules"
   ]
  },
  {
   "cell_type": "code",
   "execution_count": 4,
   "metadata": {},
   "outputs": [],
   "source": [
    "import os\n",
    "import numpy as np\n",
    "from sklearn.model_selection import train_test_split\n",
    "import pandas as pd\n",
    "import json\n",
    "import patient_data\n",
    "import cnn"
   ]
  },
  {
   "cell_type": "markdown",
   "metadata": {},
   "source": [
    "Access the folder path for the cancer and the non-cancer images"
   ]
  },
  {
   "cell_type": "code",
   "execution_count": 5,
   "metadata": {},
   "outputs": [],
   "source": [
    "all_paths = json.loads(open(\"./paths.json\").read())\n",
    "\n",
    "personal_path = all_paths['personal_path']\n",
    "non_cancerous_path = personal_path + all_paths['non_cancerous_path']\n",
    "cancerous_path = personal_path + all_paths['cancerous_path']"
   ]
  },
  {
   "cell_type": "markdown",
   "metadata": {},
   "source": [
    "Load in all the DICOM files and preprocess/label images"
   ]
  },
  {
   "cell_type": "code",
   "execution_count": 6,
   "metadata": {},
   "outputs": [
    {
     "ename": "error",
     "evalue": "OpenCV(4.10.0) D:\\a\\opencv-python\\opencv-python\\opencv\\modules\\core\\src\\alloc.cpp:73: error: (-4:Insufficient memory) Failed to allocate 1572864 bytes in function 'cv::OutOfMemoryError'\n",
     "output_type": "error",
     "traceback": [
      "\u001b[1;31m---------------------------------------------------------------------------\u001b[0m",
      "\u001b[1;31merror\u001b[0m                                     Traceback (most recent call last)",
      "Cell \u001b[1;32mIn[6], line 14\u001b[0m\n\u001b[0;32m     11\u001b[0m         patient\u001b[38;5;241m.\u001b[39mlabel_imgs()\n\u001b[0;32m     13\u001b[0m \u001b[38;5;66;03m# nc_patients = load_all_patients(non_cancerous_path)\u001b[39;00m\n\u001b[1;32m---> 14\u001b[0m c_patients \u001b[38;5;241m=\u001b[39m \u001b[43mload_all_patients\u001b[49m\u001b[43m(\u001b[49m\u001b[43mcancerous_path\u001b[49m\u001b[43m)\u001b[49m\n\u001b[0;32m     15\u001b[0m label_cancerous(c_patients)\n",
      "Cell \u001b[1;32mIn[6], line 6\u001b[0m, in \u001b[0;36mload_all_patients\u001b[1;34m(path)\u001b[0m\n\u001b[0;32m      4\u001b[0m folder \u001b[38;5;241m=\u001b[39m os\u001b[38;5;241m.\u001b[39mlistdir(path)\n\u001b[0;32m      5\u001b[0m \u001b[38;5;28;01mfor\u001b[39;00m name \u001b[38;5;129;01min\u001b[39;00m folder:\n\u001b[1;32m----> 6\u001b[0m     patients[name] \u001b[38;5;241m=\u001b[39m \u001b[43mpatient_data\u001b[49m\u001b[38;5;241;43m.\u001b[39;49m\u001b[43mPatient\u001b[49m\u001b[43m(\u001b[49m\u001b[43mos\u001b[49m\u001b[38;5;241;43m.\u001b[39;49m\u001b[43mpath\u001b[49m\u001b[38;5;241;43m.\u001b[39;49m\u001b[43mjoin\u001b[49m\u001b[43m(\u001b[49m\u001b[43mpath\u001b[49m\u001b[43m,\u001b[49m\u001b[43m \u001b[49m\u001b[43mname\u001b[49m\u001b[43m)\u001b[49m\u001b[43m)\u001b[49m\n\u001b[0;32m      7\u001b[0m \u001b[38;5;28;01mreturn\u001b[39;00m patients\n",
      "File \u001b[1;32mc:\\Users\\Shrinidhi\\Desktop\\CISC471-882\\patient_data.py:12\u001b[0m, in \u001b[0;36mPatient.__init__\u001b[1;34m(self, path)\u001b[0m\n\u001b[0;32m     10\u001b[0m \u001b[38;5;28mself\u001b[39m\u001b[38;5;241m.\u001b[39mct \u001b[38;5;241m=\u001b[39m ct_data\u001b[38;5;241m.\u001b[39mCt_Data()\n\u001b[0;32m     11\u001b[0m \u001b[38;5;28mself\u001b[39m\u001b[38;5;241m.\u001b[39mseg \u001b[38;5;241m=\u001b[39m seg_data\u001b[38;5;241m.\u001b[39mSeg_Data()\n\u001b[1;32m---> 12\u001b[0m \u001b[38;5;28;43mself\u001b[39;49m\u001b[38;5;241;43m.\u001b[39;49m\u001b[43mload_data\u001b[49m\u001b[43m(\u001b[49m\u001b[38;5;28;43mself\u001b[39;49m\u001b[38;5;241;43m.\u001b[39;49m\u001b[43mpath\u001b[49m\u001b[43m)\u001b[49m\n\u001b[0;32m     13\u001b[0m \u001b[38;5;66;03m# automatically assume this group is non cancerous\u001b[39;00m\n\u001b[0;32m     14\u001b[0m \u001b[38;5;28mself\u001b[39m\u001b[38;5;241m.\u001b[39mlabels \u001b[38;5;241m=\u001b[39m [\u001b[38;5;241m0\u001b[39m] \u001b[38;5;241m*\u001b[39m \u001b[38;5;28mlen\u001b[39m(\u001b[38;5;28mself\u001b[39m\u001b[38;5;241m.\u001b[39mct\u001b[38;5;241m.\u001b[39mimages)\n",
      "File \u001b[1;32mc:\\Users\\Shrinidhi\\Desktop\\CISC471-882\\patient_data.py:33\u001b[0m, in \u001b[0;36mPatient.load_data\u001b[1;34m(self, folder_path)\u001b[0m\n\u001b[0;32m     31\u001b[0m \u001b[38;5;66;03m# check if this is folder, if so go into the folder\u001b[39;00m\n\u001b[0;32m     32\u001b[0m \u001b[38;5;28;01melif\u001b[39;00m os\u001b[38;5;241m.\u001b[39mpath\u001b[38;5;241m.\u001b[39misdir(path):\n\u001b[1;32m---> 33\u001b[0m     \u001b[38;5;28;43mself\u001b[39;49m\u001b[38;5;241;43m.\u001b[39;49m\u001b[43mload_data\u001b[49m\u001b[43m(\u001b[49m\u001b[43mpath\u001b[49m\u001b[43m)\u001b[49m\n",
      "File \u001b[1;32mc:\\Users\\Shrinidhi\\Desktop\\CISC471-882\\patient_data.py:33\u001b[0m, in \u001b[0;36mPatient.load_data\u001b[1;34m(self, folder_path)\u001b[0m\n\u001b[0;32m     31\u001b[0m \u001b[38;5;66;03m# check if this is folder, if so go into the folder\u001b[39;00m\n\u001b[0;32m     32\u001b[0m \u001b[38;5;28;01melif\u001b[39;00m os\u001b[38;5;241m.\u001b[39mpath\u001b[38;5;241m.\u001b[39misdir(path):\n\u001b[1;32m---> 33\u001b[0m     \u001b[38;5;28;43mself\u001b[39;49m\u001b[38;5;241;43m.\u001b[39;49m\u001b[43mload_data\u001b[49m\u001b[43m(\u001b[49m\u001b[43mpath\u001b[49m\u001b[43m)\u001b[49m\n",
      "File \u001b[1;32mc:\\Users\\Shrinidhi\\Desktop\\CISC471-882\\patient_data.py:27\u001b[0m, in \u001b[0;36mPatient.load_data\u001b[1;34m(self, folder_path)\u001b[0m\n\u001b[0;32m     25\u001b[0m \u001b[38;5;66;03m# check if this is a ct file (folder will have multiple files and this file will be a dcm)\u001b[39;00m\n\u001b[0;32m     26\u001b[0m \u001b[38;5;28;01mif\u001b[39;00m folder_size \u001b[38;5;241m>\u001b[39m \u001b[38;5;241m1\u001b[39m \u001b[38;5;129;01mand\u001b[39;00m file_name\u001b[38;5;241m.\u001b[39mendswith(\u001b[38;5;124m\"\u001b[39m\u001b[38;5;124m.dcm\u001b[39m\u001b[38;5;124m\"\u001b[39m):\n\u001b[1;32m---> 27\u001b[0m     \u001b[38;5;28;43mself\u001b[39;49m\u001b[38;5;241;43m.\u001b[39;49m\u001b[43mct\u001b[49m\u001b[38;5;241;43m.\u001b[39;49m\u001b[43mimport_dicoms\u001b[49m\u001b[43m(\u001b[49m\u001b[43mpath\u001b[49m\u001b[43m)\u001b[49m\n\u001b[0;32m     28\u001b[0m \u001b[38;5;66;03m# check if this is an annotation file (folder should only have 1 file which will be a dcm)\u001b[39;00m\n\u001b[0;32m     29\u001b[0m \u001b[38;5;28;01melif\u001b[39;00m folder_size \u001b[38;5;241m==\u001b[39m \u001b[38;5;241m1\u001b[39m \u001b[38;5;129;01mand\u001b[39;00m file_name\u001b[38;5;241m.\u001b[39mendswith(\u001b[38;5;124m\"\u001b[39m\u001b[38;5;124m.dcm\u001b[39m\u001b[38;5;124m\"\u001b[39m):\n",
      "File \u001b[1;32mc:\\Users\\Shrinidhi\\Desktop\\CISC471-882\\ct_data.py:13\u001b[0m, in \u001b[0;36mCt_Data.import_dicoms\u001b[1;34m(self, new_item)\u001b[0m\n\u001b[0;32m     11\u001b[0m item \u001b[38;5;241m=\u001b[39m pydicom\u001b[38;5;241m.\u001b[39mdcmread(new_item)\n\u001b[0;32m     12\u001b[0m uid \u001b[38;5;241m=\u001b[39m item\u001b[38;5;241m.\u001b[39mSOPInstanceUID\n\u001b[1;32m---> 13\u001b[0m \u001b[38;5;28mself\u001b[39m\u001b[38;5;241m.\u001b[39mdicoms[uid] \u001b[38;5;241m=\u001b[39m [item, \u001b[38;5;28;43mself\u001b[39;49m\u001b[38;5;241;43m.\u001b[39;49m\u001b[43mload_images\u001b[49m\u001b[43m(\u001b[49m\u001b[43mitem\u001b[49m\u001b[43m)\u001b[49m]\n",
      "File \u001b[1;32mc:\\Users\\Shrinidhi\\Desktop\\CISC471-882\\ct_data.py:19\u001b[0m, in \u001b[0;36mCt_Data.load_images\u001b[1;34m(self, dicom)\u001b[0m\n\u001b[0;32m     17\u001b[0m img_normalized \u001b[38;5;241m=\u001b[39m cv2\u001b[38;5;241m.\u001b[39mnormalize(pix_array, \u001b[38;5;28;01mNone\u001b[39;00m, \u001b[38;5;241m0\u001b[39m, \u001b[38;5;241m255\u001b[39m, cv2\u001b[38;5;241m.\u001b[39mNORM_MINMAX)\n\u001b[0;32m     18\u001b[0m \u001b[38;5;66;03m# ct images should be rgb so we need to create 3 channels\u001b[39;00m\n\u001b[1;32m---> 19\u001b[0m img_rgb \u001b[38;5;241m=\u001b[39m \u001b[43mcv2\u001b[49m\u001b[38;5;241;43m.\u001b[39;49m\u001b[43mmerge\u001b[49m\u001b[43m(\u001b[49m\u001b[43m[\u001b[49m\u001b[43mimg_normalized\u001b[49m\u001b[43m,\u001b[49m\u001b[43m \u001b[49m\u001b[43mimg_normalized\u001b[49m\u001b[43m,\u001b[49m\u001b[43m \u001b[49m\u001b[43mimg_normalized\u001b[49m\u001b[43m]\u001b[49m\u001b[43m)\u001b[49m\n\u001b[0;32m     20\u001b[0m \u001b[38;5;28mself\u001b[39m\u001b[38;5;241m.\u001b[39mimages\u001b[38;5;241m.\u001b[39mappend(img_rgb)\n\u001b[0;32m     21\u001b[0m \u001b[38;5;28;01mreturn\u001b[39;00m img_rgb\n",
      "\u001b[1;31merror\u001b[0m: OpenCV(4.10.0) D:\\a\\opencv-python\\opencv-python\\opencv\\modules\\core\\src\\alloc.cpp:73: error: (-4:Insufficient memory) Failed to allocate 1572864 bytes in function 'cv::OutOfMemoryError'\n"
     ]
    }
   ],
   "source": [
    "# Using the patient_data data structure, load in all the patient data and save it in a dictionary with the folder name as the key\n",
    "def load_all_patients(path):\n",
    "    patients = {}\n",
    "    folder = os.listdir(path)\n",
    "    for name in folder:\n",
    "        patients[name] = patient_data.Patient(os.path.join(path, name))\n",
    "    return patients\n",
    "\n",
    "def label_cancerous(patients):\n",
    "    for patient in patients.values():\n",
    "        patient.label_imgs()\n",
    "\n",
    "# nc_patients = load_all_patients(non_cancerous_path)\n",
    "c_patients = load_all_patients(cancerous_path)\n",
    "label_cancerous(c_patients)"
   ]
  },
  {
   "cell_type": "markdown",
   "metadata": {},
   "source": [
    "Save images from dicoms as JPEGS for visualization"
   ]
  },
  {
   "cell_type": "code",
   "execution_count": null,
   "metadata": {},
   "outputs": [],
   "source": [
    "# def convert_to_jpg(patients, output_folder):\n",
    "#     for patient in patients:\n",
    "#         path = os.path.join(output_folder, patient)\n",
    "#         patients[patient].save_data_as_images(path)\n",
    "\n",
    "# cip = personal_path + \"/all_images/cancerous/\"\n",
    "# ncip = personal_path + \"/all_images/non_cancerous/\"\n",
    "\n",
    "# convert_to_jpg(c_patients, cip)\n",
    "# convert_to_jpg(nc_patients, ncip)"
   ]
  },
  {
   "cell_type": "markdown",
   "metadata": {},
   "source": [
    "Overlay annotations on CT images and produce JPEGS for visualization"
   ]
  },
  {
   "cell_type": "code",
   "execution_count": null,
   "metadata": {},
   "outputs": [],
   "source": [
    "# def save_overlays(patients, output_folder):\n",
    "#     for patient in patients.keys():\n",
    "#         path = os.path.join(output_folder, patient)\n",
    "#         patients[patient].overlay_seg_on_ct(path)\n",
    "#     return \n",
    "\n",
    "# cip = personal_path + \"/all_images/cancerous/\"\n",
    "# ncip = personal_path + \"/all_images/non_cancerous/\"\n",
    "\n",
    "# save_overlays(c_patients, cip)\n",
    "# save_overlays(nc_patients, ncip)"
   ]
  },
  {
   "cell_type": "markdown",
   "metadata": {},
   "source": [
    "Setting up train/test data"
   ]
  },
  {
   "cell_type": "code",
   "execution_count": null,
   "metadata": {},
   "outputs": [],
   "source": [
    "# # not sure if we need this\n",
    "# # create a list for the merged data\n",
    "# x = []\n",
    "# y = []\n",
    "\n",
    "# create a list for only the cancerous dataset data\n",
    "x_c = []\n",
    "y_c = []\n",
    "# # create a list for only the non-cancerous dataset data\n",
    "# x_nc = []\n",
    "# y_nc = []\n",
    "\n",
    "for patient in c_patients.values():\n",
    "    for i, img in enumerate(patient.ct.images):\n",
    "        x_c.append(img)\n",
    "        y_c.append(patient.labels[i])\n",
    "        # # not sure if we need this\n",
    "        # x.append(img)\n",
    "        # y.append(patient.labels[i])\n",
    "\n",
    "# for patient in nc_patients.values():\n",
    "#     for i, img in enumerate(patient.ct.images):\n",
    "#         x_nc.append(img)\n",
    "#         y_nc.append(patient.labels[i])\n",
    "#         # # not sure if we need this\n",
    "#         # x.append(img)\n",
    "#         # y.append(patient.labels[i])\n",
    "\n",
    "# # not sure if we need this\n",
    "# # Shuffle the merged data\n",
    "# combined = list(zip(x, y))\n",
    "# np.random.shuffle(combined)\n",
    "# x2, y2 = zip(*combined)\n",
    "\n",
    "def generate_train_test():\n",
    "    # to ensure equal distribution of non-cancer to cancer data, split the data before merging it\n",
    "    x_train, x_test, y_train, y_test = train_test_split(x_c, y_c, test_size=0.2, random_state=42)\n",
    "    # x_train_add, x_test_add, y_train_add, y_test_add = train_test_split(x_nc, y_nc, test_size=0.2, random_state=42)\n",
    "    # x_train.extend(x_train_add) \n",
    "    # x_test.extend(x_test_add) \n",
    "    # y_train.extend(y_train_add) \n",
    "    # y_test.extend(y_test_add) \n",
    "\n",
    "    # Convert lists to arrays\n",
    "    x_train = np.array(x_train)\n",
    "    x_test = np.array(x_test)\n",
    "    y_train = np.array(y_train)\n",
    "    y_test = np.array(y_test)\n",
    "\n",
    "    return x_train, x_test, y_train, y_test\n"
   ]
  },
  {
   "cell_type": "code",
   "execution_count": null,
   "metadata": {},
   "outputs": [],
   "source": [
    "# # double checking shape of the data\n",
    "\n",
    "# print(\"X_train shape:\", x_train.shape)\n",
    "# print(\"X_test shape:\", x_test.shape)\n",
    "# print(\"y_train shape:\", y_train.shape)\n",
    "# print(\"y_test shape:\", y_test.shape)"
   ]
  },
  {
   "cell_type": "markdown",
   "metadata": {},
   "source": [
    "Check Class Distribution in Train and Test Sets"
   ]
  },
  {
   "cell_type": "code",
   "execution_count": null,
   "metadata": {},
   "outputs": [],
   "source": [
    "# x_train, x_test, y_train, y_test = generate_train_test()\n",
    "\n",
    "# # Assuming y_train and y_test are your labels for the train and test sets\n",
    "# train_class_distribution = pd.Series(y_train).value_counts(normalize=True)\n",
    "# test_class_distribution = pd.Series(y_test).value_counts(normalize=True)\n",
    "\n",
    "# print(f\"Class distribution in training set:\")\n",
    "# print(train_class_distribution)\n",
    "# print(f\"\\nClass distribution in testing set:\")\n",
    "# print(test_class_distribution)\n",
    "# print(f\"\\nx_train visualization:\")\n",
    "# print(x_train)"
   ]
  },
  {
   "cell_type": "markdown",
   "metadata": {},
   "source": [
    "Train and test CNN model"
   ]
  },
  {
   "cell_type": "code",
   "execution_count": null,
   "metadata": {},
   "outputs": [
    {
     "ename": "MemoryError",
     "evalue": "Unable to allocate 59.5 GiB for an array with shape (40609, 512, 512, 3) and data type int16",
     "output_type": "error",
     "traceback": [
      "\u001b[1;31m---------------------------------------------------------------------------\u001b[0m",
      "\u001b[1;31mMemoryError\u001b[0m                               Traceback (most recent call last)",
      "Cell \u001b[1;32mIn[9], line 4\u001b[0m\n\u001b[0;32m      2\u001b[0m cnns \u001b[38;5;241m=\u001b[39m []\n\u001b[0;32m      3\u001b[0m \u001b[38;5;28;01mfor\u001b[39;00m i \u001b[38;5;129;01min\u001b[39;00m \u001b[38;5;28mrange\u001b[39m(num_tests):\n\u001b[1;32m----> 4\u001b[0m     x_train, x_test, y_train, y_test \u001b[38;5;241m=\u001b[39m \u001b[43mgenerate_train_test\u001b[49m\u001b[43m(\u001b[49m\u001b[43m)\u001b[49m\n\u001b[0;32m      5\u001b[0m     cnns\u001b[38;5;241m.\u001b[39mappend(cnn\u001b[38;5;241m.\u001b[39mCNN(x_train, x_test, y_train, y_test))\n",
      "Cell \u001b[1;32mIn[6], line 45\u001b[0m, in \u001b[0;36mgenerate_train_test\u001b[1;34m()\u001b[0m\n\u001b[0;32m     37\u001b[0m x_train, x_test, y_train, y_test \u001b[38;5;241m=\u001b[39m train_test_split(x_c, y_c, test_size\u001b[38;5;241m=\u001b[39m\u001b[38;5;241m0.2\u001b[39m, random_state\u001b[38;5;241m=\u001b[39m\u001b[38;5;241m42\u001b[39m)\n\u001b[0;32m     38\u001b[0m \u001b[38;5;66;03m# x_train_add, x_test_add, y_train_add, y_test_add = train_test_split(x_nc, y_nc, test_size=0.2, random_state=42)\u001b[39;00m\n\u001b[0;32m     39\u001b[0m \u001b[38;5;66;03m# x_train.extend(x_train_add) \u001b[39;00m\n\u001b[0;32m     40\u001b[0m \u001b[38;5;66;03m# x_test.extend(x_test_add) \u001b[39;00m\n\u001b[1;32m   (...)\u001b[0m\n\u001b[0;32m     43\u001b[0m \n\u001b[0;32m     44\u001b[0m \u001b[38;5;66;03m# Convert lists to arrays\u001b[39;00m\n\u001b[1;32m---> 45\u001b[0m x_train \u001b[38;5;241m=\u001b[39m \u001b[43mnp\u001b[49m\u001b[38;5;241;43m.\u001b[39;49m\u001b[43marray\u001b[49m\u001b[43m(\u001b[49m\u001b[43mx_train\u001b[49m\u001b[43m)\u001b[49m\n\u001b[0;32m     46\u001b[0m x_test \u001b[38;5;241m=\u001b[39m np\u001b[38;5;241m.\u001b[39marray(x_test)\n\u001b[0;32m     47\u001b[0m y_train \u001b[38;5;241m=\u001b[39m np\u001b[38;5;241m.\u001b[39marray(y_train)\n",
      "\u001b[1;31mMemoryError\u001b[0m: Unable to allocate 59.5 GiB for an array with shape (40609, 512, 512, 3) and data type int16"
     ]
    }
   ],
   "source": [
    "num_tests = 1\n",
    "cnns = []\n",
    "for i in range(num_tests):\n",
    "    x_train, x_test, y_train, y_test = generate_train_test()\n",
    "    cnns.append(cnn.CNN(x_train, x_test, y_train, y_test))"
   ]
  },
  {
   "cell_type": "markdown",
   "metadata": {},
   "source": [
    "Cross validation and bootstrapping"
   ]
  },
  {
   "cell_type": "code",
   "execution_count": null,
   "metadata": {},
   "outputs": [],
   "source": [
    "print(cnns[0].test_acc)"
   ]
  }
 ],
 "metadata": {
  "kernelspec": {
   "display_name": "Python 3 (ipykernel)",
   "language": "python",
   "name": "python3"
  }
 },
 "nbformat": 4,
 "nbformat_minor": 2
}
