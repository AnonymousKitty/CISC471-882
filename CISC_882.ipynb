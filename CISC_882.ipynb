{
 "cells": [
  {
   "cell_type": "markdown",
   "metadata": {},
   "source": [
    "Import required modules"
   ]
  },
  {
   "cell_type": "code",
   "execution_count": 1,
   "metadata": {},
   "outputs": [],
   "source": [
    "import os\n",
    "import numpy as np\n",
    "from sklearn.model_selection import train_test_split\n",
    "import pandas as pd\n",
    "import json\n",
    "import patient_data\n",
    "import cnn"
   ]
  },
  {
   "cell_type": "markdown",
   "metadata": {},
   "source": [
    "Access the folder path for the cancer and the non-cancer images"
   ]
  },
  {
   "cell_type": "code",
   "execution_count": 2,
   "metadata": {},
   "outputs": [],
   "source": [
    "all_paths = json.loads(open(\"./paths.json\").read())\n",
    "\n",
    "personal_path = all_paths['personal_path']\n",
    "non_cancerous_path = personal_path + all_paths['non_cancerous_path']\n",
    "cancerous_path = personal_path + all_paths['cancerous_path']"
   ]
  },
  {
   "cell_type": "markdown",
   "metadata": {},
   "source": [
    "Load in all the DICOM files and preprocess/label images"
   ]
  },
  {
   "cell_type": "code",
   "execution_count": 3,
   "metadata": {},
   "outputs": [],
   "source": [
    "# Using the patient_data data structure, load in all the patient data and save it in a dictionary with the folder name as the key\n",
    "def load_all_patients(path, add_label = False):\n",
    "    patients = {}\n",
    "    folder = os.listdir(path)\n",
    "    for name in folder:\n",
    "        patients[name] = patient_data.Patient(os.path.join(path, name))\n",
    "        if add_label:\n",
    "            if patients[name].segpath == None:\n",
    "                print(name, \"was not processed correctly\")\n",
    "            else:\n",
    "                patients[name].label_imgs()\n",
    "    return patients\n",
    "\n",
    "# nc_patients = load_all_patients(non_cancerous_path)\n",
    "c_patients = load_all_patients(cancerous_path, True)\n"
   ]
  },
  {
   "cell_type": "markdown",
   "metadata": {},
   "source": [
    "Setting up train/test data"
   ]
  },
  {
   "cell_type": "code",
   "execution_count": 4,
   "metadata": {},
   "outputs": [],
   "source": [
    "# # not sure if we need this\n",
    "# # create a list for the merged data\n",
    "# x = []\n",
    "# y = []\n",
    "\n",
    "# create a list for only the cancerous dataset data\n",
    "x_c = []\n",
    "y_c = []\n",
    "# # create a list for only the non-cancerous dataset data\n",
    "# x_nc = []\n",
    "# y_nc = []\n",
    "\n",
    "for patient in c_patients.values():\n",
    "    for i, img in enumerate(patient.ct.data.values()):\n",
    "        x_c.append(img)\n",
    "        y_c.append(patient.labels[i])\n",
    "        # # not sure if we need this\n",
    "        # x.append(img)\n",
    "        # y.append(patient.labels[i])\n",
    "\n",
    "# for patient in nc_patients.values():\n",
    "#     for i, img in enumerate(patient.ct.images):\n",
    "#         x_nc.append(img)\n",
    "#         y_nc.append(patient.labels[i])\n",
    "#         # # not sure if we need this\n",
    "#         # x.append(img)\n",
    "#         # y.append(patient.labels[i])\n",
    "\n",
    "# # not sure if we need this\n",
    "# # Shuffle the merged data\n",
    "# combined = list(zip(x, y))\n",
    "# np.random.shuffle(combined)\n",
    "# x2, y2 = zip(*combined)\n",
    "\n",
    "def generate_train_test():\n",
    "    # to ensure equal distribution of non-cancer to cancer data, split the data before merging it\n",
    "    x_train, x_test, y_train, y_test = train_test_split(x_c, y_c, test_size=0.2, random_state=42)\n",
    "    # x_train_add, x_test_add, y_train_add, y_test_add = train_test_split(x_nc, y_nc, test_size=0.2, random_state=42)\n",
    "    # x_train.extend(x_train_add) \n",
    "    # x_test.extend(x_test_add) \n",
    "    # y_train.extend(y_train_add) \n",
    "    # y_test.extend(y_test_add) \n",
    "\n",
    "    # Convert lists to arrays\n",
    "    x_train = np.array(x_train)\n",
    "    x_test = np.array(x_test)\n",
    "    y_train = np.array(y_train)\n",
    "    y_test = np.array(y_test)\n",
    "\n",
    "    return x_train, x_test, y_train, y_test\n"
   ]
  },
  {
   "cell_type": "markdown",
   "metadata": {},
   "source": [
    "Check Class Distribution in Train and Test Sets"
   ]
  },
  {
   "cell_type": "code",
   "execution_count": 5,
   "metadata": {},
   "outputs": [],
   "source": [
    "# x_train, x_test, y_train, y_test = generate_train_test()\n",
    "\n",
    "# # Assuming y_train and y_test are your labels for the train and test sets\n",
    "# train_class_distribution = pd.Series(y_train).value_counts(normalize=True)\n",
    "# test_class_distribution = pd.Series(y_test).value_counts(normalize=True)\n",
    "\n",
    "# print(f\"Class distribution in training set:\")\n",
    "# print(train_class_distribution)\n",
    "# print(f\"\\nClass distribution in testing set:\")\n",
    "# print(test_class_distribution)\n",
    "# print(f\"\\nx_train visualization:\")\n",
    "# print(x_train)"
   ]
  },
  {
   "cell_type": "markdown",
   "metadata": {},
   "source": [
    "Train and test CNN model"
   ]
  },
  {
   "cell_type": "code",
   "execution_count": null,
   "metadata": {},
   "outputs": [
    {
     "name": "stderr",
     "output_type": "stream",
     "text": [
      "c:\\Python312\\Lib\\site-packages\\keras\\src\\trainers\\data_adapters\\py_dataset_adapter.py:121: UserWarning: Your `PyDataset` class should call `super().__init__(**kwargs)` in its constructor. `**kwargs` can include `workers`, `use_multiprocessing`, `max_queue_size`. Do not pass these arguments to `fit()`, as they will be ignored.\n",
      "  self._warn_if_super_not_called()\n"
     ]
    },
    {
     "name": "stdout",
     "output_type": "stream",
     "text": [
      "Epoch 1/20\n",
      "\u001b[1m2/2\u001b[0m \u001b[32m━━━━━━━━━━━━━━━━━━━━\u001b[0m\u001b[37m\u001b[0m \u001b[1m129s\u001b[0m 115s/step - accuracy: 0.7545 - loss: 0.5869 - val_accuracy: 0.8429 - val_loss: 0.3904\n",
      "Epoch 2/20\n"
     ]
    },
    {
     "name": "stderr",
     "output_type": "stream",
     "text": [
      "c:\\Python312\\Lib\\site-packages\\keras\\src\\callbacks\\model_checkpoint.py:206: UserWarning: Can save best model only with val_acc available, skipping.\n",
      "  self._save_model(epoch=epoch, batch=None, logs=logs)\n"
     ]
    }
   ],
   "source": [
    "num_tests = 1\n",
    "cnns = []\n",
    "for i in range(num_tests):\n",
    "    x_train, x_test, y_train, y_test = generate_train_test()\n",
    "    cnns.append(cnn.CNN(x_train, x_test, y_train, y_test))"
   ]
  },
  {
   "cell_type": "markdown",
   "metadata": {},
   "source": [
    "Cross validation and bootstrapping"
   ]
  },
  {
   "cell_type": "code",
   "execution_count": null,
   "metadata": {},
   "outputs": [],
   "source": [
    "print(cnns[0].test_acc)"
   ]
  }
 ],
 "metadata": {
  "kernelspec": {
   "display_name": "Python 3",
   "language": "python",
   "name": "python3"
  },
  "language_info": {
   "codemirror_mode": {
    "name": "ipython",
    "version": 3
   },
   "file_extension": ".py",
   "mimetype": "text/x-python",
   "name": "python",
   "nbconvert_exporter": "python",
   "pygments_lexer": "ipython3",
   "version": "3.12.3"
  }
 },
 "nbformat": 4,
 "nbformat_minor": 2
}
