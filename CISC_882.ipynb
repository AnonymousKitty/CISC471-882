{
 "cells": [
  {
   "cell_type": "markdown",
   "metadata": {},
   "source": [
    "Import required modules"
   ]
  },
  {
   "cell_type": "code",
   "execution_count": null,
   "metadata": {},
   "outputs": [],
   "source": [
    "import os\n",
    "import numpy as np\n",
    "from sklearn.model_selection import train_test_split\n",
    "import pandas as pd\n",
    "import json\n",
    "import patient_data"
   ]
  },
  {
   "cell_type": "markdown",
   "metadata": {},
   "source": [
    "Access the folder path for the cancer and the non-cancer images"
   ]
  },
  {
   "cell_type": "code",
   "execution_count": 22,
   "metadata": {},
   "outputs": [],
   "source": [
    "all_paths = json.loads(open(\"./paths.json\").read())\n",
    "\n",
    "personal_path = all_paths['personal_path']\n",
    "non_cancerous_path = personal_path + all_paths['non_cancerous_path']\n",
    "cancerous_path = personal_path + all_paths['cancerous_path']"
   ]
  },
  {
   "cell_type": "markdown",
   "metadata": {},
   "source": [
    "Load in all the DICOM files and preprocess/label images"
   ]
  },
  {
   "cell_type": "code",
   "execution_count": 23,
   "metadata": {},
   "outputs": [],
   "source": [
    "# Using the patient_data data structure, load in all the patient data and save it in a dictionary with the folder name as the key\n",
    "def load_all_patients(path):\n",
    "    patients = {}\n",
    "    folder = os.listdir(path)\n",
    "    for name in folder:\n",
    "        patients[name] = patient_data.Patient(os.path.join(path, name))\n",
    "    return patients\n",
    "\n",
    "def label_cancerous(patients):\n",
    "    for patient in patients.values():\n",
    "        patient.label_imgs()\n",
    "\n",
    "nc_patients = load_all_patients(non_cancerous_path)\n",
    "c_patients = load_all_patients(cancerous_path)\n",
    "label_cancerous(c_patients)"
   ]
  },
  {
   "cell_type": "markdown",
   "metadata": {},
   "source": [
    "Save images from dicoms as JPEGS for visualization"
   ]
  },
  {
   "cell_type": "code",
   "execution_count": 24,
   "metadata": {},
   "outputs": [],
   "source": [
    "# def convert_to_jpg(patients, output_folder):\n",
    "#     for patient in patients:\n",
    "#         path = os.path.join(output_folder, patient)\n",
    "#         patients[patient].save_data_as_images(path)\n",
    "\n",
    "# cip = personal_path + \"/all_images/cancerous/\"\n",
    "# ncip = personal_path + \"/all_images/non_cancerous/\"\n",
    "\n",
    "# convert_to_jpg(c_patients, cip)\n",
    "# convert_to_jpg(nc_patients, ncip)"
   ]
  },
  {
   "cell_type": "markdown",
   "metadata": {},
   "source": [
    "Overlay annotations on CT images and produce JPEGS for visualization"
   ]
  },
  {
   "cell_type": "code",
   "execution_count": 25,
   "metadata": {},
   "outputs": [],
   "source": [
    "# def save_overlays(patients, output_folder):\n",
    "#     for patient in patients.keys():\n",
    "#         path = os.path.join(output_folder, patient)\n",
    "#         patients[patient].overlay_seg_on_ct(path)\n",
    "#     return \n",
    "\n",
    "# cip = personal_path + \"/all_images/cancerous/\"\n",
    "# ncip = personal_path + \"/all_images/non_cancerous/\"\n",
    "\n",
    "# save_overlays(c_patients, cip)\n",
    "# save_overlays(nc_patients, ncip)"
   ]
  },
  {
   "cell_type": "markdown",
   "metadata": {},
   "source": [
    "Setting up train/test data"
   ]
  },
  {
   "cell_type": "code",
   "execution_count": 45,
   "metadata": {},
   "outputs": [],
   "source": [
    "# # not sure if we need this\n",
    "# # create a list for the merged data\n",
    "# x = []\n",
    "# y = []\n",
    "\n",
    "# create a list for only the cancerous dataset data\n",
    "x_c = []\n",
    "y_c = []\n",
    "# create a list for only the non-cancerous dataset data\n",
    "x_nc = []\n",
    "y_nc = []\n",
    "\n",
    "for patient in c_patients.values():\n",
    "    for i, img in enumerate(patient.ct.images):\n",
    "        x_c.append(img)\n",
    "        y_c.append(patient.labels[i])\n",
    "        # # not sure if we need this\n",
    "        # x.append(img)\n",
    "        # y.append(patient.labels[i])\n",
    "\n",
    "for patient in nc_patients.values():\n",
    "    for i, img in enumerate(patient.ct.images):\n",
    "        x_nc.append(img)\n",
    "        y_nc.append(patient.labels[i])\n",
    "        # # not sure if we need this\n",
    "        # x.append(img)\n",
    "        # y.append(patient.labels[i])\n",
    "\n",
    "# # not sure if we need this\n",
    "# # Shuffle the merged data\n",
    "# combined = list(zip(x, y))\n",
    "# np.random.shuffle(combined)\n",
    "# x2, y2 = zip(*combined)\n",
    "\n",
    "def generate_train_test():\n",
    "    # to ensure equal distribution of non-cancer to cancer data, split the data before merging it\n",
    "    x_train, x_test, y_train, y_test = train_test_split(x_c, y_c, test_size=0.2, random_state=42)\n",
    "    x_train_add, x_test_add, y_train_add, y_test_add = train_test_split(x_nc, y_nc, test_size=0.2, random_state=42)\n",
    "    x_train.extend(x_train_add) \n",
    "    x_test.extend(x_test_add) \n",
    "    y_train.extend(y_train_add) \n",
    "    y_test.extend(y_test_add) \n",
    "\n",
    "    # Convert lists to arrays\n",
    "    x_train = np.array(x_train)\n",
    "    x_test = np.array(x_test)\n",
    "    y_train = np.array(y_train)\n",
    "    y_test = np.array(y_test)\n",
    "\n",
    "    return x_train, x_test, y_train, y_test\n",
    "\n",
    "num_tests = 3\n",
    "test_data = []\n",
    "for i in range(num_tests):\n",
    "    test_data.append(generate_train_test())"
   ]
  },
  {
   "cell_type": "code",
   "execution_count": null,
   "metadata": {},
   "outputs": [],
   "source": [
    "# # double checking shape of the data\n",
    "\n",
    "# print(\"X_train shape:\", x_train.shape)\n",
    "# print(\"X_test shape:\", x_test.shape)\n",
    "# print(\"y_train shape:\", y_train.shape)\n",
    "# print(\"y_test shape:\", y_test.shape)"
   ]
  },
  {
   "cell_type": "markdown",
   "metadata": {},
   "source": [
    "Check Class Distribution in Train and Test Sets"
   ]
  },
  {
   "cell_type": "code",
   "execution_count": 44,
   "metadata": {},
   "outputs": [
    {
     "ename": "TypeError",
     "evalue": "'function' object is not subscriptable",
     "output_type": "error",
     "traceback": [
      "\u001b[1;31m---------------------------------------------------------------------------\u001b[0m",
      "\u001b[1;31mTypeError\u001b[0m                                 Traceback (most recent call last)",
      "Cell \u001b[1;32mIn[44], line 3\u001b[0m\n\u001b[0;32m      1\u001b[0m \u001b[38;5;28;01mfor\u001b[39;00m i \u001b[38;5;129;01min\u001b[39;00m test_data:\n\u001b[0;32m      2\u001b[0m     \u001b[38;5;66;03m# Assuming y_train and y_test are your labels for the train and test sets\u001b[39;00m\n\u001b[1;32m----> 3\u001b[0m     train_class_distribution \u001b[38;5;241m=\u001b[39m pd\u001b[38;5;241m.\u001b[39mSeries(\u001b[43mi\u001b[49m\u001b[43m[\u001b[49m\u001b[38;5;241;43m2\u001b[39;49m\u001b[43m]\u001b[49m)\u001b[38;5;241m.\u001b[39mvalue_counts(normalize\u001b[38;5;241m=\u001b[39m\u001b[38;5;28;01mTrue\u001b[39;00m)\n\u001b[0;32m      4\u001b[0m     test_class_distribution \u001b[38;5;241m=\u001b[39m pd\u001b[38;5;241m.\u001b[39mSeries(i[\u001b[38;5;241m3\u001b[39m])\u001b[38;5;241m.\u001b[39mvalue_counts(normalize\u001b[38;5;241m=\u001b[39m\u001b[38;5;28;01mTrue\u001b[39;00m)\n\u001b[0;32m      6\u001b[0m     \u001b[38;5;28mprint\u001b[39m(\u001b[38;5;124m\"\u001b[39m\u001b[38;5;124mClass distribution in training set:\u001b[39m\u001b[38;5;124m\"\u001b[39m)\n",
      "\u001b[1;31mTypeError\u001b[0m: 'function' object is not subscriptable"
     ]
    }
   ],
   "source": [
    "for i in test_data:\n",
    "    # Assuming y_train and y_test are your labels for the train and test sets\n",
    "    train_class_distribution = pd.Series(i[2]).value_counts(normalize=True)\n",
    "    test_class_distribution = pd.Series(i[3]).value_counts(normalize=True)\n",
    "\n",
    "    print(\"Class distribution in training set:\")\n",
    "    print(train_class_distribution)\n",
    "    print(\"\\nClass distribution in testing set:\")\n",
    "    print(test_class_distribution)"
   ]
  },
  {
   "cell_type": "markdown",
   "metadata": {},
   "source": [
    "Train and test CNN model"
   ]
  },
  {
   "cell_type": "code",
   "execution_count": null,
   "metadata": {},
   "outputs": [],
   "source": []
  },
  {
   "cell_type": "markdown",
   "metadata": {},
   "source": [
    "Cross validation and bootstrapping"
   ]
  }
 ],
 "metadata": {
  "kernelspec": {
   "display_name": "Python 3",
   "language": "python",
   "name": "python3"
  },
  "language_info": {
   "codemirror_mode": {
    "name": "ipython",
    "version": 3
   },
   "file_extension": ".py",
   "mimetype": "text/x-python",
   "name": "python",
   "nbconvert_exporter": "python",
   "pygments_lexer": "ipython3",
   "version": "3.12.3"
  }
 },
 "nbformat": 4,
 "nbformat_minor": 2
}
