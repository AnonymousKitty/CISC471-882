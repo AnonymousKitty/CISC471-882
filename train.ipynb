{
 "cells": [
  {
   "cell_type": "code",
   "execution_count": 1,
   "metadata": {},
   "outputs": [],
   "source": [
    "import tensorflow as tf\n",
    "from tensorflow.keras.models import Sequential\n",
    "from tensorflow.keras.layers import (\n",
    "    Conv2D, MaxPooling2D, AveragePooling2D, Flatten, Dense, BatchNormalization, Dropout, ReLU\n",
    ")\n",
    "from sklearn.metrics import classification_report\n",
    "\n",
    "# CNN Model\n",
    "model = Sequential([\n",
    "    # 1st Conv Layer\n",
    "    Conv2D(32, (3, 3), padding=\"same\", input_shape=(128, 128, 3)),\n",
    "    BatchNormalization(),\n",
    "    ReLU(),\n",
    "    MaxPooling2D(pool_size=(2, 2)),\n",
    "\n",
    "    # 2nd Conv Layer\n",
    "    Conv2D(64, (3, 3), padding=\"same\"),\n",
    "    BatchNormalization(),\n",
    "    ReLU(),\n",
    "    MaxPooling2D(pool_size=(2, 2)),\n",
    "\n",
    "    # 3rd Conv Layer\n",
    "    Conv2D(128, (3, 3), padding=\"same\"),\n",
    "    BatchNormalization(),\n",
    "    ReLU(),\n",
    "    MaxPooling2D(pool_size=(2, 2)),\n",
    "\n",
    "    # Average Pooling Layer\n",
    "    AveragePooling2D(pool_size=(2, 2)),\n",
    "    \n",
    "    # Flatten and Fully Connected Layer\n",
    "    Flatten(),\n",
    "    Dropout(0.5),  # Dropout to reduce overfitting\n",
    "    Dense(1, activation=\"sigmoid\")  # Binary classification\n",
    "])\n"
   ]
  },
  {
   "cell_type": "code",
   "execution_count": null,
   "metadata": {},
   "outputs": [],
   "source": [
    "# Compile the model\n",
    "model.compile(optimizer=tf.keras.optimizers.Adam(),\n",
    "              loss=\"binary_crossentropy\",\n",
    "              metrics=[\"accuracy\"])\n",
    "\n",
    "# Assuming the preprocessed data is already split into training and validation sets\n",
    "# Example: train_images, train_labels, val_images, val_labels\n",
    "\n",
    "# Train the model\n",
    "epochs = 25\n",
    "batch_size = 32\n",
    "history = model.fit(\n",
    "    train_images, train_labels,\n",
    "    validation_data=(val_images, val_labels),\n",
    "    epochs=epochs,\n",
    "    batch_size=batch_size,\n",
    "    verbose=1,\n",
    ")"
   ]
  },
  {
   "cell_type": "code",
   "execution_count": null,
   "metadata": {},
   "outputs": [],
   "source": [
    "# Evaluate the model\n",
    "val_loss, val_accuracy = model.evaluate(val_images, val_labels)\n",
    "print(f\"Validation Accuracy: {val_accuracy:.2f}\")\n",
    "\n",
    "# Generate predictions\n",
    "y_pred = model.predict(val_images)\n",
    "y_pred = (y_pred > 0.5).astype(int)\n",
    "\n",
    "# Evaluation metrics\n",
    "print(\"Classification Report:\\n\", classification_report(val_labels, y_pred, target_names=[\"Non-Cancerous\", \"Cancerous\"]))"
   ]
  }
 ],
 "metadata": {
  "kernelspec": {
   "display_name": "tf_env",
   "language": "python",
   "name": "python3"
  },
  "language_info": {
   "codemirror_mode": {
    "name": "ipython",
    "version": 3
   },
   "file_extension": ".py",
   "mimetype": "text/x-python",
   "name": "python",
   "nbconvert_exporter": "python",
   "pygments_lexer": "ipython3",
   "version": "3.8.20"
  }
 },
 "nbformat": 4,
 "nbformat_minor": 2
}
