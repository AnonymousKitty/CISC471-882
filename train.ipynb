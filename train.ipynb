{
 "cells": [
  {
   "cell_type": "code",
   "execution_count": null,
   "metadata": {},
   "outputs": [],
   "source": [
    "import tensorflow as tf\n",
    "from keras.models import Sequential\n",
    "from keras.layers import (\n",
    "    Conv2D, MaxPooling2D, AveragePooling2D, Flatten, Dense, BatchNormalization, Dropout, ReLU\n",
    ")\n",
    "from keras.optimizers import Adam\n",
    "from sklearn.metrics import classification_report\n",
    "\n",
    "# CNN Model\n",
    "model = Sequential([\n",
    "    # 1st Conv Layer\n",
    "    Conv2D(32, (3, 3), padding=\"same\", input_shape=(512, 512, 3)),\n",
    "    BatchNormalization(),\n",
    "    ReLU(),\n",
    "    MaxPooling2D(pool_size=(2, 2)),\n",
    "\n",
    "    # 2nd Conv Layer\n",
    "    Conv2D(64, (3, 3), padding=\"same\"),\n",
    "    BatchNormalization(),\n",
    "    ReLU(),\n",
    "    MaxPooling2D(pool_size=(2, 2)),\n",
    "\n",
    "    # 3rd Conv Layer\n",
    "    Conv2D(128, (3, 3), padding=\"same\"),\n",
    "    BatchNormalization(),\n",
    "    ReLU(),\n",
    "    MaxPooling2D(pool_size=(2, 2)),\n",
    "\n",
    "    # Average Pooling Layer\n",
    "    AveragePooling2D(pool_size=(2, 2)),\n",
    "    \n",
    "    # Flatten and Fully Connected Layer\n",
    "    Flatten(),\n",
    "    Dropout(0.5),  # Dropout to reduce overfitting\n",
    "    Dense(1, activation=\"sigmoid\")  # Binary classification\n",
    "])\n",
    "model.compile(loss='binary_crossentropy', optimizer=Adam(learning_rate=0.001), metrics=['accuracy'])"
   ]
  },
  {
   "cell_type": "code",
   "execution_count": null,
   "metadata": {},
   "outputs": [],
   "source": [
    "history = model.fit(\n",
    "    x_train, y_train,  # Training data\n",
    "    batch_size=32,  # Number of samples per batch\n",
    "    epochs=100,  # Number of training epochs\n",
    "    verbose=1  # Display training progress\n",
    ")"
   ]
  },
  {
   "cell_type": "code",
   "execution_count": null,
   "metadata": {},
   "outputs": [],
   "source": [
    "test_loss, test_acc = model.evaluate(x_test, y_test)\n",
    "print(f\"Test Accuracy: {test_acc}\")"
   ]
  }
 ],
 "metadata": {
  "kernelspec": {
   "display_name": "tf_env",
   "language": "python",
   "name": "python3"
  },
  "language_info": {
   "codemirror_mode": {
    "name": "ipython",
    "version": 3
   },
   "file_extension": ".py",
   "mimetype": "text/x-python",
   "name": "python",
   "nbconvert_exporter": "python",
   "pygments_lexer": "ipython3",
   "version": "3.8.20"
  }
 },
 "nbformat": 4,
 "nbformat_minor": 2
}
